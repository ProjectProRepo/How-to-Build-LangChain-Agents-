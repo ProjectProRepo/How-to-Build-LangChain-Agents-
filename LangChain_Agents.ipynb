{
  "nbformat": 4,
  "nbformat_minor": 0,
  "metadata": {
    "colab": {
      "provenance": [],
      "gpuType": "T4",
      "authorship_tag": "ABX9TyObbupBwM5K/zddi154ebqQ",
      "include_colab_link": true
    },
    "kernelspec": {
      "name": "python3",
      "display_name": "Python 3"
    },
    "language_info": {
      "name": "python"
    },
    "accelerator": "GPU"
  },
  "cells": [
    {
      "cell_type": "markdown",
      "metadata": {
        "id": "view-in-github",
        "colab_type": "text"
      },
      "source": [
        "<a href=\"https://colab.research.google.com/github/ProjectProRepo/How-to-Build-LangChain-Agents-/blob/main/LangChain_Agents.ipynb\" target=\"_parent\"><img src=\"https://colab.research.google.com/assets/colab-badge.svg\" alt=\"Open In Colab\"/></a>"
      ]
    },
    {
      "cell_type": "code",
      "source": [
        "!pip -qqq install pip --progress-bar off\n",
        "!pip -qqq install langchain-groq --progress-bar off\n",
        "!pip install pymupdf --progress-bar off\n",
        "!pip install -U langchain-community --progress-bar off"
      ],
      "metadata": {
        "colab": {
          "base_uri": "https://localhost:8080/"
        },
        "id": "_4tGLd4YKaX6",
        "outputId": "af5a5ebf-e4ad-465d-e990-4f971408b8ed"
      },
      "execution_count": 1,
      "outputs": [
        {
          "output_type": "stream",
          "name": "stdout",
          "text": [
            "Collecting pymupdf\n",
            "  Downloading pymupdf-1.25.3-cp39-abi3-manylinux2014_x86_64.manylinux_2_17_x86_64.whl.metadata (3.4 kB)\n",
            "Downloading pymupdf-1.25.3-cp39-abi3-manylinux2014_x86_64.manylinux_2_17_x86_64.whl (20.0 MB)\n",
            "Installing collected packages: pymupdf\n",
            "Successfully installed pymupdf-1.25.3\n",
            "Collecting langchain-community\n",
            "  Downloading langchain_community-0.3.17-py3-none-any.whl.metadata (2.4 kB)\n",
            "Collecting langchain-core<1.0.0,>=0.3.34 (from langchain-community)\n",
            "  Downloading langchain_core-0.3.35-py3-none-any.whl.metadata (5.9 kB)\n",
            "Collecting langchain<1.0.0,>=0.3.18 (from langchain-community)\n",
            "  Downloading langchain-0.3.18-py3-none-any.whl.metadata (7.8 kB)\n",
            "Requirement already satisfied: SQLAlchemy<3,>=1.4 in /usr/local/lib/python3.11/dist-packages (from langchain-community) (2.0.37)\n",
            "Requirement already satisfied: requests<3,>=2 in /usr/local/lib/python3.11/dist-packages (from langchain-community) (2.32.3)\n",
            "Requirement already satisfied: PyYAML>=5.3 in /usr/local/lib/python3.11/dist-packages (from langchain-community) (6.0.2)\n",
            "Requirement already satisfied: aiohttp<4.0.0,>=3.8.3 in /usr/local/lib/python3.11/dist-packages (from langchain-community) (3.11.12)\n",
            "Requirement already satisfied: tenacity!=8.4.0,<10,>=8.1.0 in /usr/local/lib/python3.11/dist-packages (from langchain-community) (9.0.0)\n",
            "Collecting dataclasses-json<0.7,>=0.5.7 (from langchain-community)\n",
            "  Downloading dataclasses_json-0.6.7-py3-none-any.whl.metadata (25 kB)\n",
            "Collecting pydantic-settings<3.0.0,>=2.4.0 (from langchain-community)\n",
            "  Downloading pydantic_settings-2.7.1-py3-none-any.whl.metadata (3.5 kB)\n",
            "Requirement already satisfied: langsmith<0.4,>=0.1.125 in /usr/local/lib/python3.11/dist-packages (from langchain-community) (0.3.6)\n",
            "Collecting httpx-sse<1.0.0,>=0.4.0 (from langchain-community)\n",
            "  Downloading httpx_sse-0.4.0-py3-none-any.whl.metadata (9.0 kB)\n",
            "Requirement already satisfied: numpy<2,>=1.26.4 in /usr/local/lib/python3.11/dist-packages (from langchain-community) (1.26.4)\n",
            "Requirement already satisfied: aiohappyeyeballs>=2.3.0 in /usr/local/lib/python3.11/dist-packages (from aiohttp<4.0.0,>=3.8.3->langchain-community) (2.4.4)\n",
            "Requirement already satisfied: aiosignal>=1.1.2 in /usr/local/lib/python3.11/dist-packages (from aiohttp<4.0.0,>=3.8.3->langchain-community) (1.3.2)\n",
            "Requirement already satisfied: attrs>=17.3.0 in /usr/local/lib/python3.11/dist-packages (from aiohttp<4.0.0,>=3.8.3->langchain-community) (25.1.0)\n",
            "Requirement already satisfied: frozenlist>=1.1.1 in /usr/local/lib/python3.11/dist-packages (from aiohttp<4.0.0,>=3.8.3->langchain-community) (1.5.0)\n",
            "Requirement already satisfied: multidict<7.0,>=4.5 in /usr/local/lib/python3.11/dist-packages (from aiohttp<4.0.0,>=3.8.3->langchain-community) (6.1.0)\n",
            "Requirement already satisfied: propcache>=0.2.0 in /usr/local/lib/python3.11/dist-packages (from aiohttp<4.0.0,>=3.8.3->langchain-community) (0.2.1)\n",
            "Requirement already satisfied: yarl<2.0,>=1.17.0 in /usr/local/lib/python3.11/dist-packages (from aiohttp<4.0.0,>=3.8.3->langchain-community) (1.18.3)\n",
            "Collecting marshmallow<4.0.0,>=3.18.0 (from dataclasses-json<0.7,>=0.5.7->langchain-community)\n",
            "  Downloading marshmallow-3.26.1-py3-none-any.whl.metadata (7.3 kB)\n",
            "Collecting typing-inspect<1,>=0.4.0 (from dataclasses-json<0.7,>=0.5.7->langchain-community)\n",
            "  Downloading typing_inspect-0.9.0-py3-none-any.whl.metadata (1.5 kB)\n",
            "Collecting langchain-text-splitters<1.0.0,>=0.3.6 (from langchain<1.0.0,>=0.3.18->langchain-community)\n",
            "  Downloading langchain_text_splitters-0.3.6-py3-none-any.whl.metadata (1.9 kB)\n",
            "Requirement already satisfied: pydantic<3.0.0,>=2.7.4 in /usr/local/lib/python3.11/dist-packages (from langchain<1.0.0,>=0.3.18->langchain-community) (2.10.6)\n",
            "Requirement already satisfied: jsonpatch<2.0,>=1.33 in /usr/local/lib/python3.11/dist-packages (from langchain-core<1.0.0,>=0.3.34->langchain-community) (1.33)\n",
            "Requirement already satisfied: packaging<25,>=23.2 in /usr/local/lib/python3.11/dist-packages (from langchain-core<1.0.0,>=0.3.34->langchain-community) (24.2)\n",
            "Requirement already satisfied: typing-extensions>=4.7 in /usr/local/lib/python3.11/dist-packages (from langchain-core<1.0.0,>=0.3.34->langchain-community) (4.12.2)\n",
            "Requirement already satisfied: httpx<1,>=0.23.0 in /usr/local/lib/python3.11/dist-packages (from langsmith<0.4,>=0.1.125->langchain-community) (0.28.1)\n",
            "Requirement already satisfied: orjson<4.0.0,>=3.9.14 in /usr/local/lib/python3.11/dist-packages (from langsmith<0.4,>=0.1.125->langchain-community) (3.10.15)\n",
            "Requirement already satisfied: requests-toolbelt<2.0.0,>=1.0.0 in /usr/local/lib/python3.11/dist-packages (from langsmith<0.4,>=0.1.125->langchain-community) (1.0.0)\n",
            "Requirement already satisfied: zstandard<0.24.0,>=0.23.0 in /usr/local/lib/python3.11/dist-packages (from langsmith<0.4,>=0.1.125->langchain-community) (0.23.0)\n",
            "Collecting python-dotenv>=0.21.0 (from pydantic-settings<3.0.0,>=2.4.0->langchain-community)\n",
            "  Downloading python_dotenv-1.0.1-py3-none-any.whl.metadata (23 kB)\n",
            "Requirement already satisfied: charset-normalizer<4,>=2 in /usr/local/lib/python3.11/dist-packages (from requests<3,>=2->langchain-community) (3.4.1)\n",
            "Requirement already satisfied: idna<4,>=2.5 in /usr/local/lib/python3.11/dist-packages (from requests<3,>=2->langchain-community) (3.10)\n",
            "Requirement already satisfied: urllib3<3,>=1.21.1 in /usr/local/lib/python3.11/dist-packages (from requests<3,>=2->langchain-community) (2.3.0)\n",
            "Requirement already satisfied: certifi>=2017.4.17 in /usr/local/lib/python3.11/dist-packages (from requests<3,>=2->langchain-community) (2025.1.31)\n",
            "Requirement already satisfied: greenlet!=0.4.17 in /usr/local/lib/python3.11/dist-packages (from SQLAlchemy<3,>=1.4->langchain-community) (3.1.1)\n",
            "Requirement already satisfied: anyio in /usr/local/lib/python3.11/dist-packages (from httpx<1,>=0.23.0->langsmith<0.4,>=0.1.125->langchain-community) (3.7.1)\n",
            "Requirement already satisfied: httpcore==1.* in /usr/local/lib/python3.11/dist-packages (from httpx<1,>=0.23.0->langsmith<0.4,>=0.1.125->langchain-community) (1.0.7)\n",
            "Requirement already satisfied: h11<0.15,>=0.13 in /usr/local/lib/python3.11/dist-packages (from httpcore==1.*->httpx<1,>=0.23.0->langsmith<0.4,>=0.1.125->langchain-community) (0.14.0)\n",
            "Requirement already satisfied: jsonpointer>=1.9 in /usr/local/lib/python3.11/dist-packages (from jsonpatch<2.0,>=1.33->langchain-core<1.0.0,>=0.3.34->langchain-community) (3.0.0)\n",
            "Requirement already satisfied: annotated-types>=0.6.0 in /usr/local/lib/python3.11/dist-packages (from pydantic<3.0.0,>=2.7.4->langchain<1.0.0,>=0.3.18->langchain-community) (0.7.0)\n",
            "Requirement already satisfied: pydantic-core==2.27.2 in /usr/local/lib/python3.11/dist-packages (from pydantic<3.0.0,>=2.7.4->langchain<1.0.0,>=0.3.18->langchain-community) (2.27.2)\n",
            "Collecting mypy-extensions>=0.3.0 (from typing-inspect<1,>=0.4.0->dataclasses-json<0.7,>=0.5.7->langchain-community)\n",
            "  Downloading mypy_extensions-1.0.0-py3-none-any.whl.metadata (1.1 kB)\n",
            "Requirement already satisfied: sniffio>=1.1 in /usr/local/lib/python3.11/dist-packages (from anyio->httpx<1,>=0.23.0->langsmith<0.4,>=0.1.125->langchain-community) (1.3.1)\n",
            "Downloading langchain_community-0.3.17-py3-none-any.whl (2.5 MB)\n",
            "Downloading dataclasses_json-0.6.7-py3-none-any.whl (28 kB)\n",
            "Downloading httpx_sse-0.4.0-py3-none-any.whl (7.8 kB)\n",
            "Downloading langchain-0.3.18-py3-none-any.whl (1.0 MB)\n",
            "Downloading langchain_core-0.3.35-py3-none-any.whl (413 kB)\n",
            "Downloading pydantic_settings-2.7.1-py3-none-any.whl (29 kB)\n",
            "Downloading langchain_text_splitters-0.3.6-py3-none-any.whl (31 kB)\n",
            "Downloading marshmallow-3.26.1-py3-none-any.whl (50 kB)\n",
            "Downloading python_dotenv-1.0.1-py3-none-any.whl (19 kB)\n",
            "Downloading typing_inspect-0.9.0-py3-none-any.whl (8.8 kB)\n",
            "Downloading mypy_extensions-1.0.0-py3-none-any.whl (4.7 kB)\n",
            "Installing collected packages: python-dotenv, mypy-extensions, marshmallow, httpx-sse, typing-inspect, pydantic-settings, dataclasses-json, langchain-core, langchain-text-splitters, langchain, langchain-community\n",
            "  Attempting uninstall: langchain-core\n",
            "    Found existing installation: langchain-core 0.3.33\n",
            "    Uninstalling langchain-core-0.3.33:\n",
            "      Successfully uninstalled langchain-core-0.3.33\n",
            "  Attempting uninstall: langchain-text-splitters\n",
            "    Found existing installation: langchain-text-splitters 0.3.5\n",
            "    Uninstalling langchain-text-splitters-0.3.5:\n",
            "      Successfully uninstalled langchain-text-splitters-0.3.5\n",
            "  Attempting uninstall: langchain\n",
            "    Found existing installation: langchain 0.3.17\n",
            "    Uninstalling langchain-0.3.17:\n",
            "      Successfully uninstalled langchain-0.3.17\n",
            "Successfully installed dataclasses-json-0.6.7 httpx-sse-0.4.0 langchain-0.3.18 langchain-community-0.3.17 langchain-core-0.3.35 langchain-text-splitters-0.3.6 marshmallow-3.26.1 mypy-extensions-1.0.0 pydantic-settings-2.7.1 python-dotenv-1.0.1 typing-inspect-0.9.0\n"
          ]
        }
      ]
    },
    {
      "cell_type": "code",
      "source": [
        "import fitz  # PyMuPDF\n",
        "\n",
        "def extract_text_from_pdf(pdf_path):\n",
        "    \"\"\"Extracts text from a given PDF file.\"\"\"\n",
        "    doc = fitz.open(pdf_path)  # Open the PDF file\n",
        "    text = \"\\n\".join([page.get_text(\"text\") for page in doc])  # Extract text from each page\n",
        "    return text\n",
        "\n",
        "# 🔹 Provide the PDF file path here\n",
        "pdf_path = \"Meta_Report2024.pdf\"  # Change this to your actual file path\n",
        "pdf_text = extract_text_from_pdf(pdf_path)\n",
        "\n",
        "# 🔹 Preview first 1000 characters to check extraction\n",
        "print(pdf_text[:1000])\n"
      ],
      "metadata": {
        "colab": {
          "base_uri": "https://localhost:8080/"
        },
        "id": "CEKNVWCwLc0e",
        "outputId": "8016a1e0-be5b-495a-f7ce-795e15839e79"
      },
      "execution_count": 2,
      "outputs": [
        {
          "output_type": "stream",
          "name": "stdout",
          "text": [
            "Meta Reports First Quarter 2024 Results\n",
            "MENLO PARK, Calif. – April 24, 2024 – Meta Platforms, Inc. (Nasdaq: META) today reported financial results for the quarter \n",
            "ended March 31, 2024.\n",
            "\"It's been a good start to the year,\" said Mark Zuckerberg, Meta founder and CEO. \"The new version of Meta AI with Llama 3 is \n",
            "another step towards building the world's leading AI. We're seeing healthy growth across our apps and we continue making \n",
            "steady progress building the metaverse as well.\"\n",
            "First Quarter 2024 Financial Highlights\n",
            "Three Months Ended March 31,\n",
            "% Change\n",
            "In millions, except percentages and per share amounts\n",
            "2024\n",
            "2023\n",
            "Revenue\n",
            "$ \n",
            "36,455 \n",
            "$ \n",
            "28,645 \n",
            " 27 %\n",
            "Costs and expenses\n",
            " \n",
            "22,637 \n",
            " \n",
            "21,418 \n",
            " 6 %\n",
            "Income from operations\n",
            "$ \n",
            "13,818 \n",
            "$ \n",
            "7,227 \n",
            " 91 %\n",
            "Operating margin\n",
            " 38 %\n",
            " 25 %\n",
            "Provision for income taxes\n",
            "$ \n",
            "1,814 \n",
            "$ \n",
            "1,598 \n",
            " 14 %\n",
            "Effective tax rate\n",
            " 13 %\n",
            " 22 %\n",
            "Net income\n",
            "$ \n",
            "12,369 \n",
            "$ \n",
            "5,709 \n",
            " 117 %\n",
            "Diluted earnings per share (EPS)\n",
            "$ \n",
            "4.71 \n",
            "$ \n",
            "2.20 \n",
            " 114 %\n",
            "First Quarter 2024 Operational and\n"
          ]
        }
      ]
    },
    {
      "cell_type": "code",
      "source": [
        "import os\n",
        "\n",
        "os.environ[\"GROQ_API_KEY\"] = input(\"Enter your GROQ API Key: \")"
      ],
      "metadata": {
        "id": "pTXOcjHbKpzH"
      },
      "execution_count": null,
      "outputs": []
    },
    {
      "cell_type": "code",
      "source": [
        "from langchain_groq import ChatGroq\n",
        "from langchain.memory import ConversationBufferMemory\n",
        "from langchain.agents import initialize_agent, Tool\n",
        "from langchain.tools import Tool\n",
        "from langchain.schema import AIMessage, HumanMessage"
      ],
      "metadata": {
        "id": "xerfIGcLKYWC"
      },
      "execution_count": 4,
      "outputs": []
    },
    {
      "cell_type": "code",
      "source": [
        "# Initialize Chat Model\n",
        "chat_model = ChatGroq(temperature=0, model_name=\"llama3-70b-8192\")\n",
        "\n",
        "# Memory for Context Retention\n",
        "memory = ConversationBufferMemory(memory_key=\"chat_history\", return_messages=True)"
      ],
      "metadata": {
        "colab": {
          "base_uri": "https://localhost:8080/"
        },
        "id": "nwrnet73Xgu5",
        "outputId": "4c459c29-6ec4-4edc-f89b-265cacdc13ff"
      },
      "execution_count": 5,
      "outputs": [
        {
          "output_type": "stream",
          "name": "stderr",
          "text": [
            "<ipython-input-5-3691e619a03e>:5: LangChainDeprecationWarning: Please see the migration guide at: https://python.langchain.com/docs/versions/migrating_memory/\n",
            "  memory = ConversationBufferMemory(memory_key=\"chat_history\", return_messages=True)\n"
          ]
        }
      ]
    },
    {
      "cell_type": "code",
      "source": [
        "# Initialize Chat History\n",
        "memory.chat_memory.add_user_message(\"Start analyzing financial data\")\n",
        "memory.chat_memory.add_ai_message(\"I am ready to analyze. Please provide the data.\")\n",
        "\n",
        "# Define PDF Processing Tool\n",
        "def analyze_financial_report():\n",
        "    \"\"\"Analyzes financial data from a report.\"\"\"\n",
        "    prompt = f\"\"\"\n",
        "    You are a financial analyst. Analyze the following financial report text and provide insights:\n",
        "    {pdf_text[:4000]}  #Limit input to 4000 characters to fit model constraints\n",
        "    \"\"\"\n",
        "    response = chat_model.invoke(prompt)\n",
        "    return response.content\n",
        "\n",
        "pdf_tool = Tool(\n",
        "    name=\"Financial Report Analysis\",\n",
        "    func=lambda _: analyze_financial_report(),\n",
        "    description=\"Extracts and analyzes key financial data from reports.\"\n",
        ")"
      ],
      "metadata": {
        "id": "Wd0cfmdbKfH0"
      },
      "execution_count": 6,
      "outputs": []
    },
    {
      "cell_type": "code",
      "source": [
        "#Initialize Agent\n",
        "agent = initialize_agent(\n",
        "    agent=\"chat-conversational-react-description\",\n",
        "    tools=[pdf_tool],\n",
        "    llm=chat_model,\n",
        "    memory=memory,\n",
        "    verbose=True\n",
        ")\n",
        "\n",
        "#Run Query on the PDF Data\n",
        "response = agent.run(\"Summarize the revenue trends from the report.\")\n",
        "print(response)"
      ],
      "metadata": {
        "colab": {
          "base_uri": "https://localhost:8080/"
        },
        "id": "Yz4VJJ65XQTm",
        "outputId": "e576ee94-366b-4c73-9552-01e653bb1419"
      },
      "execution_count": 7,
      "outputs": [
        {
          "output_type": "stream",
          "name": "stderr",
          "text": [
            "<ipython-input-7-cc71f67c4c0e>:2: LangChainDeprecationWarning: LangChain agents will continue to be supported, but it is recommended for new use cases to be built with LangGraph. LangGraph offers a more flexible and full-featured framework for building agents, including support for tool-calling, persistence of state, and human-in-the-loop workflows. For details, refer to the `LangGraph documentation <https://langchain-ai.github.io/langgraph/>`_ as well as guides for `Migrating from AgentExecutor <https://python.langchain.com/docs/how_to/migrate_agent/>`_ and LangGraph's `Pre-built ReAct agent <https://langchain-ai.github.io/langgraph/how-tos/create-react-agent/>`_.\n",
            "  agent = initialize_agent(\n",
            "<ipython-input-7-cc71f67c4c0e>:11: LangChainDeprecationWarning: The method `Chain.run` was deprecated in langchain 0.1.0 and will be removed in 1.0. Use :meth:`~invoke` instead.\n",
            "  response = agent.run(\"Summarize the revenue trends from the report.\")\n"
          ]
        },
        {
          "output_type": "stream",
          "name": "stdout",
          "text": [
            "\n",
            "\n",
            "\u001b[1m> Entering new AgentExecutor chain...\u001b[0m\n",
            "\u001b[32;1m\u001b[1;3m```json\n",
            "{\n",
            "    \"action\": \"Financial Report Analysis\",\n",
            "    \"action_input\": \"Please upload or provide a link to the financial report you'd like me to analyze, and I'll extract and summarize the revenue trends for you.\"\n",
            "}\n",
            "```\u001b[0m\n",
            "Observation: \u001b[36;1m\u001b[1;3mAs a financial analyst, I'll provide insights into Meta's Q1 2024 financial report:\n",
            "\n",
            "**Positive Trends:**\n",
            "\n",
            "1. **Revenue Growth**: Meta's revenue increased by 27% year-over-year (YoY) to $36.46 billion, driven by growth in ad impressions (20% YoY) and average price per ad (6% YoY).\n",
            "2. **Net Income and EPS**: Net income surged by 117% YoY to $12.37 billion, resulting in a diluted EPS of $4.71, up 114% YoY.\n",
            "3. **Operating Margin Expansion**: The operating margin expanded to 38% from 25% in Q1 2023, indicating improved profitability.\n",
            "4. **Strong Cash Generation**: Meta generated $12.53 billion in free cash flow, and its cash, cash equivalents, and marketable securities balance stood at $58.12 billion as of March 31, 2024.\n",
            "\n",
            "**Areas of Concern:**\n",
            "\n",
            "1. **Costs and Expenses**: While revenue grew 27% YoY, costs and expenses increased by only 6% YoY, which may indicate some cost discipline. However, the company expects full-year 2024 total expenses to be in the range of $96-99 billion, which could put pressure on margins.\n",
            "2. **Reality Labs**: The company expects operating losses in Reality Labs to increase meaningfully YoY due to ongoing product development efforts and investments to scale the ecosystem.\n",
            "3. **Capital Expenditures**: Meta expects full-year 2024 capital expenditures to be in the range of $35-40 billion, which is higher than its prior range of $30-37 billion. This could impact free cash flow generation.\n",
            "4. **Regulatory Headwinds**: The company faces increasing legal and regulatory headwinds in the EU and the US, which could significantly impact its business and financial results.\n",
            "\n",
            "**Guidance and Outlook:**\n",
            "\n",
            "1. **Q2 2024 Revenue Guidance**: Meta expects total revenue to be in the range of $36.5-39 billion, with a 1% headwind from foreign currency exchange rates.\n",
            "2. **Full-Year 2024 Guidance**: The company expects full-year 2024 total expenses to be in the range of $96-99 billion, and capital expenditures to be in the range of $35-40 billion.\n",
            "\n",
            "**Key Takeaways:**\n",
            "\n",
            "1. Meta's Q1 2024 results were strong, driven by revenue growth and operating margin expansion.\n",
            "2. The company is investing heavily in AI and Reality Labs, which could lead to increased expenses and capital expenditures in the future.\n",
            "3. Regulatory headwinds and increasing costs could impact Meta's profitability and cash generation in the future.\n",
            "\n",
            "Overall, Meta's Q1 2024 results were positive, but the company faces challenges in the form of increasing costs, regulatory headwinds, and investments in AI and Reality Labs.\u001b[0m\n",
            "Thought:\u001b[32;1m\u001b[1;3m```json\n",
            "{\n",
            "    \"action\": \"Final Answer\",\n",
            "    \"action_input\": \"Based on the financial report analysis, Meta's revenue trends show a 27% year-over-year growth, driven by ad impressions and average price per ad. However, the company faces challenges in increasing costs, regulatory headwinds, and investments in AI and Reality Labs, which could impact its profitability and cash generation in the future.\"\n",
            "}\n",
            "```\u001b[0m\n",
            "\n",
            "\u001b[1m> Finished chain.\u001b[0m\n",
            "Based on the financial report analysis, Meta's revenue trends show a 27% year-over-year growth, driven by ad impressions and average price per ad. However, the company faces challenges in increasing costs, regulatory headwinds, and investments in AI and Reality Labs, which could impact its profitability and cash generation in the future.\n"
          ]
        }
      ]
    },
    {
      "cell_type": "code",
      "source": [],
      "metadata": {
        "id": "TgNZChuOYiLk"
      },
      "execution_count": null,
      "outputs": []
    }
  ]
}